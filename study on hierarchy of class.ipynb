{
 "cells": [
  {
   "cell_type": "markdown",
   "id": "61ae02c8",
   "metadata": {},
   "source": [
    "# 类的继承问题\n",
    "\n",
    "## 原因  \n",
    "- 多个相似的类别分别构建会大大降低效率，形成冗余的代码，也会降低可读性  \n",
    "- 将各种类别的**公共特征**提取出来形成一个公共大类  \n",
    "- 给中子类继承父类的公共特征，并添加自身的特殊特征，从而形成一个子类  \n",
    "- **所谓继承，即底层抽象继承高层抽象的过程**\n",
    "\n",
    "\n",
    "## 简单的继承问题\n",
    "\n",
    "### 父类"
   ]
  },
  {
   "cell_type": "code",
   "execution_count": 43,
   "id": "42197fc3",
   "metadata": {},
   "outputs": [],
   "source": [
    "class Car():\n",
    "    \"\"\"模拟汽车\"\"\"\n",
    "    def __init__(self, brand, model, year):\n",
    "        \"\"\"初始化汽车属性\"\"\"\n",
    "        self.brand = brand    #相当于类内部的变量\n",
    "        self.model = model    #汽车的型号属性\n",
    "        self.year = year      #汽车的出场年份属性\n",
    "        self.mileage = 0      #汽车的里程数\n",
    "    \n",
    "    def get_main_information(self):\n",
    "        \"\"\"获取汽车的主要信息\"\"\"\n",
    "        print(\"品牌：{}\\n型号：{}\\n出厂年份{}\\n\".format(self.brand, self.model, self.year))\n",
    "        \n",
    "    def get_mileage(self):\n",
    "        \"\"\"获取总里程数\"\"\"\n",
    "        return(\"里程数：{}\".format(self.mileage))\n",
    "    \n",
    "    def set_mileage(self, distance):\n",
    "        if distance >= 0:\n",
    "            self_mileage = distance\n",
    "        else:\n",
    "            print(\"里程数不可为负值\")\n",
    "            \n",
    "    def increment_mileage(self, distance):\n",
    "        if distance >= 0:\n",
    "            self_mileage = distance\n",
    "        else:\n",
    "            print(\"里程增加数不可为负值\")"
   ]
  },
  {
   "cell_type": "markdown",
   "id": "eccdae0b",
   "metadata": {},
   "source": [
    "### 子类"
   ]
  },
  {
   "cell_type": "markdown",
   "id": "3758e88e",
   "metadata": {},
   "source": [
    "**class 子类(父类):**  \n",
    "- 新建一个电动车类"
   ]
  },
  {
   "cell_type": "code",
   "execution_count": 44,
   "id": "945bb942",
   "metadata": {},
   "outputs": [],
   "source": [
    "class ElectricCar(Car):\n",
    "    \"\"\"模拟电动车\"\"\"\n",
    "    def __init__(self, brand, model, year):\n",
    "        \"\"\"初始化电动车属性\"\"\"\n",
    "        super().__init__(brand, model, year) #声明父类的属性，注意此处没有声明self参数，所有父类的属性和方法自动继承"
   ]
  },
  {
   "cell_type": "markdown",
   "id": "37918aca",
   "metadata": {},
   "source": [
    "- 以上子类定义其实为父类的完全复制，并没有更新子类特有的属性和方法  \n",
    "- 声明父类以后，不仅仅继承了父类的属性，方法也全部继承过来  \n",
    "- 如果子类中定义属性或方法与父类产生冲突优先服从子类设定  \n",
    "- 计算机收到代码的指令调用类的属性或类的方法优先从子类检索，子类没有再去父类检索"
   ]
  },
  {
   "cell_type": "markdown",
   "id": "32b28ac0",
   "metadata": {},
   "source": [
    "### 给子类添加方法："
   ]
  },
  {
   "cell_type": "code",
   "execution_count": 45,
   "id": "0fa70296",
   "metadata": {},
   "outputs": [],
   "source": [
    "class ElectricCar(Car):\n",
    "    def __init__(self, brand, model, year, battery_size):\n",
    "        \"\"\"模拟电动车\"\"\"\n",
    "        super().__init__(brand, model, year)  #声明父类的属性，注意此处没有声明self参数，所有父类的属性和方法自动继承\n",
    "        self.battery_size = battery_size      #电池容量\n",
    "        self.electric_quantity = battery_size #初始化电池剩余容量为电池容量\n",
    "        self.electric2distance_ratio = 5      #电量距离转换比\n",
    "        self.remain_distance = self.electric_quantity * self.electric2distance_ratio #剩余距离\n",
    "        \n",
    "    def get_electric_quantity(self):\n",
    "        \"\"\"查看当前剩余电量\"\"\"\n",
    "        print(\"当前剩余电量为{}\".format(self.electric_quantity))\n",
    "        \n",
    "    def set_electric_quantity(self, electric_quantity):\n",
    "        \"\"\"输入剩余电量，重新计算剩余里程数\"\"\"\n",
    "        if electric_quantity >= 0:\n",
    "            self.electric_quantity = electric_quantity\n",
    "            self.remain_distance = self.electric_quantity * self.electric2distance_ratio     #更新电量和里程数\n",
    "        else:\n",
    "            print(\"电量不能为负数\")\n",
    "            \n",
    "    def get_remain_distance(self):\n",
    "        \"\"\"计算剩余可行驶里程数\"\"\"\n",
    "        print(\"剩余可行驶公里数为：{}\".format(self.remain_distance))\n",
    "        "
   ]
  },
  {
   "cell_type": "code",
   "execution_count": 46,
   "id": "ac52561e",
   "metadata": {},
   "outputs": [
    {
     "name": "stdout",
     "output_type": "stream",
     "text": [
      "品牌：xiao\n",
      "型号：swd\n",
      "出厂年份2045\n",
      "\n",
      "当前剩余电量为70\n",
      "剩余可行驶公里数为：350\n"
     ]
    }
   ],
   "source": [
    "my_electric_car = ElectricCar(\"xiao\", \"swd\", 2045, 70)\n",
    "my_electric_car.get_main_information()      #获取信息（父类）\n",
    "my_electric_car.get_electric_quantity()     #获取当前电池电量 \n",
    "my_electric_car.get_remain_distance()       #获取剩余里程数"
   ]
  },
  {
   "cell_type": "code",
   "execution_count": 47,
   "id": "1caffbc0",
   "metadata": {},
   "outputs": [
    {
     "name": "stdout",
     "output_type": "stream",
     "text": [
      "当前剩余电量为60\n",
      "剩余可行驶公里数为：300\n"
     ]
    }
   ],
   "source": [
    "my_electric_car.set_electric_quantity(60)    #修改电池剩余电量\n",
    "my_electric_car.get_electric_quantity()\n",
    "my_electric_car.get_remain_distance()        #显示修改后的信息"
   ]
  },
  {
   "cell_type": "markdown",
   "id": "4db7019d",
   "metadata": {},
   "source": [
    "### 重写父类的方法——多态法"
   ]
  },
  {
   "cell_type": "code",
   "execution_count": 48,
   "id": "d0c7d85a",
   "metadata": {},
   "outputs": [],
   "source": [
    "class ElectricCar(Car):\n",
    "    def __init__(self, brand, model, year, battery_size):\n",
    "        \"\"\"模拟电动车\"\"\"\n",
    "        super().__init__(brand, model, year)  #声明父类的属性，注意此处没有声明self参数，所有父类的属性和方法自动继承\n",
    "        self.battery_size = battery_size      #电池容量\n",
    "        self.electric_quantity = battery_size #初始化电池剩余容量为电池容量\n",
    "        self.electric2distance_ratio = 5      #电量距离转换比\n",
    "        self.remain_distance = self.electric_quantity * self.electric2distance_ratio #剩余距离\n",
    "        \n",
    "    def get_main_information(self):           #重写父类方法\n",
    "        \"\"\"获取汽车主要信息\"\"\"\n",
    "        print(\"品牌：{}\\n型号：{}\\n出厂年份：{}\\n续航里程：{}\\n\"\n",
    "              .format(self.brand, self.model, self.year, self.remain_distance))\n",
    "    \n",
    "    \n",
    "    def get_electric_quantity(self):\n",
    "        \"\"\"查看当前剩余电量\"\"\"\n",
    "        print(\"当前剩余电量为{}\".format(self.electric_quantity))\n",
    "        \n",
    "    def set_electric_quantity(self, electric_quantity):\n",
    "        \"\"\"输入剩余电量，重新计算剩余里程数\"\"\"\n",
    "        if electric_quantity >= 0:\n",
    "            self.electric_quantity = electric_quantity\n",
    "            self.remain_distance = self.electric_quantity * self.electric2distance_ratio     #更新电量和里程数\n",
    "        else:\n",
    "            print(\"电量不能为负数\")\n",
    "            \n",
    "    def get_remain_distance(self):\n",
    "        \"\"\"计算剩余可行驶里程数\"\"\"\n",
    "        print(\"剩余可行驶公里数为：{}\".format(self.remain_distance))"
   ]
  },
  {
   "cell_type": "code",
   "execution_count": 49,
   "id": "70600e66",
   "metadata": {},
   "outputs": [
    {
     "name": "stdout",
     "output_type": "stream",
     "text": [
      "品牌：xiao\n",
      "型号：swd\n",
      "出厂年份：2045\n",
      "续航里程：350\n",
      "\n",
      "品牌：xiao\n",
      "型号：swd\n",
      "出厂年份：2045\n",
      "续航里程：300\n",
      "\n"
     ]
    }
   ],
   "source": [
    "my_electric_car = ElectricCar(\"xiao\", \"swd\", 2045, 70)\n",
    "my_electric_car.get_main_information()      #获取信息（经过子类修改）\n",
    "my_electric_car.set_electric_quantity(60)   #修改电池剩余电量\n",
    "my_electric_car.get_main_information()      #获取信息（电量修改之后）（经过子类修改父类）"
   ]
  },
  {
   "cell_type": "markdown",
   "id": "139809b8",
   "metadata": {},
   "source": [
    "### 用在类中的一个实例\n",
    "将电池抽象为一个对象  \n",
    "逻辑更加清晰"
   ]
  },
  {
   "cell_type": "code",
   "execution_count": 50,
   "id": "b5c50568",
   "metadata": {},
   "outputs": [],
   "source": [
    "class Battery():\n",
    "    \"\"\"模拟电池\"\"\"\n",
    "    \n",
    "    def __init__(self, battery_size = 70):\n",
    "        self.battery_size = battery_size      #电池容量\n",
    "        self.electric_quantity = battery_size #初始化电池剩余容量为电池容量\n",
    "        self.electric2distance_ratio = 5      #电量距离转换比\n",
    "        self.remain_distance = self.electric_quantity * self.electric2distance_ratio #剩余距离\n",
    "        \n",
    "    def get_electric_quantity(self):\n",
    "        \"\"\"查看当前剩余电量\"\"\"\n",
    "        print(\"当前剩余电量为{}\".format(self.electric_quantity))\n",
    "        \n",
    "    def set_electric_quantity(self, electric_quantity):\n",
    "        \"\"\"输入剩余电量，重新计算剩余里程数\"\"\"\n",
    "        if electric_quantity >= 0:\n",
    "            self.electric_quantity = electric_quantity\n",
    "            self.remain_distance = self.electric_quantity * self.electric2distance_ratio     #更新电量和里程数\n",
    "        else:\n",
    "            print(\"电量不能为负数\")\n",
    "            \n",
    "    def get_remain_distance(self):\n",
    "        \"\"\"计算剩余可行驶里程数\"\"\"\n",
    "        print(\"剩余可行驶公里数为：{}\".format(self.remain_distance))"
   ]
  },
  {
   "cell_type": "code",
   "execution_count": 51,
   "id": "eacdb4be",
   "metadata": {},
   "outputs": [],
   "source": [
    "class ElectricCar(Car):\n",
    "    \"\"\"模拟电动汽车\"\"\"\n",
    "    \n",
    "    def __init__(self, brand, model, year, electric_quantity):\n",
    "        \"\"\"初始化电动汽车属性\"\"\"\n",
    "        super().__init__(brand, model, year)       #声明父类的属性，注意此处没有声明self参数，所有父类的属性和方法自动继承\n",
    "        self.battery = Battery(electric_quantity)  #电池\n",
    "    \n",
    "    def get_main_information(self):           #重写父类方法\n",
    "        \"\"\"获取汽车主要信息\"\"\"\n",
    "        print(\"品牌：{}\\n型号：{}\\n出厂年份：{}\\n续航里程：{}\\n\"\n",
    "              .format(self.brand, self.model, self.year, self.battery.remain_distance))     \n",
    "    \n",
    "        "
   ]
  },
  {
   "cell_type": "code",
   "execution_count": 52,
   "id": "7ac15765",
   "metadata": {},
   "outputs": [
    {
     "name": "stdout",
     "output_type": "stream",
     "text": [
      "品牌：xiao\n",
      "型号：swd\n",
      "出厂年份：2045\n",
      "续航里程：350\n",
      "\n"
     ]
    }
   ],
   "source": [
    "my_electric_car = ElectricCar(\"xiao\", \"swd\", 2045, 70)\n",
    "my_electric_car.get_main_information()      #获取信息"
   ]
  },
  {
   "cell_type": "code",
   "execution_count": 53,
   "id": "644824c4",
   "metadata": {},
   "outputs": [
    {
     "name": "stdout",
     "output_type": "stream",
     "text": [
      "品牌：xiao\n",
      "型号：swd\n",
      "出厂年份：2045\n",
      "续航里程：150\n",
      "\n"
     ]
    }
   ],
   "source": [
    "my_electric_car.battery.set_electric_quantity(30)  #利用类访问\n",
    "my_electric_car.get_main_information()             #获取信息"
   ]
  }
 ],
 "metadata": {
  "kernelspec": {
   "display_name": "Python 3 (ipykernel)",
   "language": "python",
   "name": "python3"
  },
  "language_info": {
   "codemirror_mode": {
    "name": "ipython",
    "version": 3
   },
   "file_extension": ".py",
   "mimetype": "text/x-python",
   "name": "python",
   "nbconvert_exporter": "python",
   "pygments_lexer": "ipython3",
   "version": "3.10.4"
  }
 },
 "nbformat": 4,
 "nbformat_minor": 5
}
