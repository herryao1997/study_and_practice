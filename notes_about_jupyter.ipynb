{
 "cells": [
  {
   "cell_type": "code",
   "execution_count": 1,
   "id": "8a8e04bc",
   "metadata": {},
   "outputs": [
    {
     "name": "stdout",
     "output_type": "stream",
     "text": [
      "hello world\n"
     ]
    }
   ],
   "source": [
    "print(\"hello world\")"
   ]
  },
  {
   "cell_type": "markdown",
   "id": "c9e772fa",
   "metadata": {},
   "source": [
    "#  进入编辑模式\n",
    "绿色 命令模式进入编辑模式，enter。\n",
    "# 进入命令模式\n",
    "蓝色 编辑模式进入命令模式，esc"
   ]
  },
  {
   "cell_type": "markdown",
   "id": "79495dc9",
   "metadata": {},
   "source": [
    "# 代码的运行及添加代码块\n",
    "运行当前代码&添加代码块：enter+shift\n",
    "\n",
    "运行当前代码并将光标停留在当前代码区块：ctrl+shift\n",
    "\n",
    "删除当前代码块：dd\n",
    "\n",
    "在下方添加一个代码块：b\n",
    "\n",
    "在上方添加一个代码块：a"
   ]
  },
  {
   "cell_type": "markdown",
   "id": "f5227726",
   "metadata": {},
   "source": [
    "# 一些快捷键位\n",
    "将编程语言变成Markdown代码：m  \n",
    "\n",
    "将Markdown转换成编程语言代码：y  \n",
    "\n",
    "添加超链接：\\[链接名称\\]\\(链接地址\\)  \n",
    "[python](https://www.on.org/)"
   ]
  },
  {
   "cell_type": "markdown",
   "id": "1a5a61cd",
   "metadata": {},
   "source": [
    "# 添加图片\n",
    "\\!\\[图片\\]\\(图片地址链接\\)\n",
    "\n",
    "![图片](https://img2.baidu.com/it/u=4084621093,2971972319&fm=253&fmt=auto&app=120&f=JPEG?w=889&h=500)\n"
   ]
  },
  {
   "cell_type": "markdown",
   "id": "fb193550",
   "metadata": {},
   "source": [
    "# Markdown 里面的用法\n",
    "\\- 表示要点栏\n",
    "\n",
    "1\\. 可以输出序号\n",
    "\n",
    "- 第一点\n",
    "\n",
    "- 第二点\n",
    "\n",
    "1. 第一\n",
    "\n",
    "2. 第二\n",
    "\n",
    "想输出公式用doller符号框住公式即可输出  \n",
    "\n",
    "想以居中的格式输出公式以双doller符号框住公式  \n",
    "\n",
    "$$z=x+y$$\n",
    "\n",
    "$\\frac{2}{x+y}$  \n",
    "\n",
    "Markdown还支持以文本形式添加代码内容，声明代码语言后可以有高亮显示功能  \n",
    "\n",
    "```python\n",
    "if __name__ == \"__main__\":\n",
    "```"
   ]
  },
  {
   "cell_type": "markdown",
   "id": "28ba091a",
   "metadata": {},
   "source": [
    "# 一级标题\n",
    "## 二级标题\n",
    "### 三级标题\n",
    "**加粗**\\\n",
    "*斜体*"
   ]
  }
 ],
 "metadata": {
  "kernelspec": {
   "display_name": "Python 3 (ipykernel)",
   "language": "python",
   "name": "python3"
  },
  "language_info": {
   "codemirror_mode": {
    "name": "ipython",
    "version": 3
   },
   "file_extension": ".py",
   "mimetype": "text/x-python",
   "name": "python",
   "nbconvert_exporter": "python",
   "pygments_lexer": "ipython3",
   "version": "3.10.4"
  }
 },
 "nbformat": 4,
 "nbformat_minor": 5
}
