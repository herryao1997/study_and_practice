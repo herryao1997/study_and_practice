{
 "cells": [
  {
   "cell_type": "markdown",
   "id": "36db112d",
   "metadata": {},
   "source": [
    "# 引子：  \n",
    "为什么要引进面向对象的变成： 面向对象更加符合人类对于客观世界的抽象和理解\n",
    "- 一切皆对象\n",
    "- 一切的对象都存在自身的内在属性\n",
    "- 一切行为都是来自与对象的行为\n",
    "因此可见面向过程的编程很难实现以上的需求，因次引入了面向对象的编程  \n",
    "- 如何实现面向对象的编程呢\n",
    "在计算机语言中，类是对象的载体  \n",
    "把一类对象的公共特征抽象出来，创建通用的类  "
   ]
  },
  {
   "cell_type": "markdown",
   "id": "e8fe16f1",
   "metadata": {},
   "source": [
    "创建类的简单的例子"
   ]
  },
  {
   "cell_type": "code",
   "execution_count": 11,
   "id": "ea73510b",
   "metadata": {},
   "outputs": [],
   "source": [
    "class Cat():\n",
    "    \"\"\"模拟猫\"\"\"\n",
    "    \n",
    "    def __init__(self, name):\n",
    "        \"\"\"初始化属性\"\"\"\n",
    "        self.name = name\n",
    "    def jump(self):\n",
    "        \"\"\"模拟动作\"\"\"\n",
    "        print(self.name + \" is jumpping\")"
   ]
  },
  {
   "cell_type": "code",
   "execution_count": 12,
   "id": "f33da6f2",
   "metadata": {},
   "outputs": [],
   "source": [
    "#用类来创建的实例\n",
    "my_cat = Cat(\"tom\")\n",
    "your_cat = Cat(\"jerry\")"
   ]
  },
  {
   "cell_type": "code",
   "execution_count": 13,
   "id": "f0194611",
   "metadata": {},
   "outputs": [
    {
     "name": "stdout",
     "output_type": "stream",
     "text": [
      "tom\n",
      "jerry\n"
     ]
    }
   ],
   "source": [
    "#调用属性\n",
    "print(my_cat.name)\n",
    "print(your_cat.name)"
   ]
  },
  {
   "cell_type": "code",
   "execution_count": 14,
   "id": "82caa97a",
   "metadata": {},
   "outputs": [
    {
     "name": "stdout",
     "output_type": "stream",
     "text": [
      "tom is jumpping\n",
      "jerry is jumpping\n"
     ]
    }
   ],
   "source": [
    "#调用方法\n",
    "my_cat.jump()\n",
    "your_cat.jump()"
   ]
  },
  {
   "cell_type": "markdown",
   "id": "041d0659",
   "metadata": {},
   "source": [
    "## 类的定义的三要素\n",
    "1. 类的命名\n",
    "2. 类的属性\n",
    "3. 类的方法"
   ]
  },
  {
   "cell_type": "markdown",
   "id": "c7df16cf",
   "metadata": {},
   "source": [
    "### 类的命名  \n",
    "- 要有实际的意义\n",
    "- 驼峰命名法：组成的单词大写首字母\n",
    "eg：Dog、BadBoy"
   ]
  },
  {
   "cell_type": "code",
   "execution_count": 17,
   "id": "7f92ab3b",
   "metadata": {},
   "outputs": [],
   "source": [
    "#类名定义习惯  \n",
    "\"\"\"定义类之前一般空两行\"\"\"\n",
    "\n",
    "\n",
    "class Car():\n",
    "    \"\"\"对类进行简单的介绍\"\"\"\n",
    "    pass\n",
    "\n",
    "#定义类以后也要空两行"
   ]
  },
  {
   "cell_type": "markdown",
   "id": "6555e02b",
   "metadata": {},
   "source": [
    "### 类的属性  \n",
    "- 通过传入的参数进行类属性的初始化\n",
    "- 在属性内部自定义初始化，此时可以不用定义参数传递，需要修改的时候可以通过类属性赋值对其进行后期修改"
   ]
  },
  {
   "cell_type": "code",
   "execution_count": 18,
   "id": "21e6156f",
   "metadata": {},
   "outputs": [],
   "source": [
    "#def __init__(self, 参数): 初始化类的属性"
   ]
  },
  {
   "cell_type": "code",
   "execution_count": null,
   "id": "d6ffb602",
   "metadata": {},
   "outputs": [],
   "source": [
    "class Car():\n",
    "    \"\"\"模拟汽车\"\"\"\n",
    "    def __init__(self, brand, model, year):\n",
    "        \"\"\"初始化汽车类的属性\"\"\"\n",
    "        self.brand = brand    #汽车的品牌属性\n",
    "        self.model = model    #汽车的型号属性\n",
    "        self.year = year      #汽车的出场年份属性\n",
    "        self.mileage = 0      #汽车的里程数"
   ]
  },
  {
   "cell_type": "markdown",
   "id": "756ce565",
   "metadata": {},
   "source": [
    "### 类的方法\n",
    "- 下面例子定义了一个类，并赋予了其四个类的属性和两个类的方法"
   ]
  },
  {
   "cell_type": "code",
   "execution_count": null,
   "id": "c29e632c",
   "metadata": {},
   "outputs": [],
   "source": [
    "#def 方法名称(self):"
   ]
  },
  {
   "cell_type": "code",
   "execution_count": 19,
   "id": "94d31320",
   "metadata": {},
   "outputs": [],
   "source": [
    "class Car():\n",
    "    '''模拟汽车'''\n",
    "    def __init__(self, brand, model, year):\n",
    "        \"\"\"初始化汽车的属性\"\"\"\n",
    "        self.brand = brand    #汽车的品牌属性\n",
    "        self.model = model    #汽车的型号属性\n",
    "        self.year = year      #汽车的出场年份属性\n",
    "        self.mileage = 0      #汽车的里程数\n",
    "    def get_main_information(self):\n",
    "        \"\"\"获取汽车的主要信息\"\"\"\n",
    "        print(\"品牌：{}\\n型号：{}\\n出场年份{}\\n\".format(self.brand,self.model,self.year))\n",
    "    def get_mileage(self):\n",
    "        \"\"\"获取总里程数\"\"\"\n",
    "        return \"里程数：{}\".format(self.mileage)"
   ]
  },
  {
   "cell_type": "markdown",
   "id": "0882d580",
   "metadata": {},
   "source": [
    "## 创建实例  \n",
    "- 创建实例要把类的属性全部进行初始化\n",
    "- 初始化的不足和过量均会导致语法错误"
   ]
  },
  {
   "cell_type": "markdown",
   "id": "46908ad7",
   "metadata": {},
   "source": [
    "### 实例的创建  \n",
    "将实例赋值给对象，再次过程冲传入相应的参数  \n",
    "实例名称 = 类名称(必要的初始化参数)"
   ]
  },
  {
   "cell_type": "code",
   "execution_count": 20,
   "id": "66a0e331",
   "metadata": {},
   "outputs": [],
   "source": [
    "my_new_car = Car(\"BMW\", 530, 2021)"
   ]
  },
  {
   "cell_type": "markdown",
   "id": "1aed198b",
   "metadata": {},
   "source": [
    "### 属性的访问  \n",
    "类名.属性名"
   ]
  },
  {
   "cell_type": "code",
   "execution_count": 21,
   "id": "becd161f",
   "metadata": {},
   "outputs": [
    {
     "name": "stdout",
     "output_type": "stream",
     "text": [
      "BMW\n",
      "530\n",
      "2021\n"
     ]
    }
   ],
   "source": [
    "print(my_new_car.brand)\n",
    "print(my_new_car.model)\n",
    "print(my_new_car.year)"
   ]
  },
  {
   "cell_type": "markdown",
   "id": "f2cc4461",
   "metadata": {},
   "source": [
    "### 调用的方法  \n",
    "实例名.方法名(必要的参数)"
   ]
  },
  {
   "cell_type": "code",
   "execution_count": 23,
   "id": "38512519",
   "metadata": {},
   "outputs": [
    {
     "name": "stdout",
     "output_type": "stream",
     "text": [
      "品牌：BMW\n",
      "型号：530\n",
      "出场年份2021\n",
      "\n",
      "里程数：0\n"
     ]
    }
   ],
   "source": [
    "# my_new_car = Car(\"BMW\", 530, 2021)\n",
    "my_new_car.get_main_information()\n",
    "s = my_new_car.get_mileage()\n",
    "print(s)"
   ]
  },
  {
   "cell_type": "markdown",
   "id": "0ea851c9",
   "metadata": {},
   "source": [
    "### 修改属性\n",
    "- 直接修改\n",
    "- 通过方法修改"
   ]
  },
  {
   "cell_type": "markdown",
   "id": "0709f403",
   "metadata": {},
   "source": [
    "### 直接修改法"
   ]
  },
  {
   "cell_type": "code",
   "execution_count": 33,
   "id": "f91c6338",
   "metadata": {},
   "outputs": [],
   "source": [
    "#直接修改\n",
    "my_old_car = Car(\"BYD\", \"F0\", 2001)"
   ]
  },
  {
   "cell_type": "code",
   "execution_count": 34,
   "id": "f986254b",
   "metadata": {},
   "outputs": [
    {
     "name": "stdout",
     "output_type": "stream",
     "text": [
      "0\n",
      "100000\n"
     ]
    }
   ],
   "source": [
    "#先访问后修改\n",
    "print(my_old_car.mileage)\n",
    "my_old_car.mileage = 100000\n",
    "print(my_old_car.mileage)"
   ]
  },
  {
   "cell_type": "code",
   "execution_count": 36,
   "id": "451bfd19",
   "metadata": {},
   "outputs": [
    {
     "name": "stdout",
     "output_type": "stream",
     "text": [
      "里程数：100000\n"
     ]
    }
   ],
   "source": [
    "print(my_old_car.get_mileage())"
   ]
  },
  {
   "cell_type": "markdown",
   "id": "158ce233",
   "metadata": {},
   "source": [
    "### 通过方法修改"
   ]
  },
  {
   "cell_type": "code",
   "execution_count": 4,
   "id": "efe4f384",
   "metadata": {},
   "outputs": [],
   "source": [
    "class Car():\n",
    "    def __init__(self, brand, model, year):\n",
    "        \"\"\"初始化汽车属性\"\"\"\n",
    "        self.brand = brand    #汽车的品牌属性\n",
    "        self.model = model    #汽车的型号属性\n",
    "        self.year = year      #汽车的出场年份属性\n",
    "        self.mileage = 0      #汽车的里程数\n",
    "        \n",
    "    def get_main_information(self):\n",
    "        \"\"\"获取汽车的主要功能\"\"\"\n",
    "        print(\"品牌：{}\\n型号：{}\\n出场日期：{}\\n\".format(self.brand, self.model, self.year))\n",
    "        \n",
    "    def get_mileage(self):\n",
    "        \"\"\"获取汽车的里程数\"\"\"\n",
    "        return(\"汽车行驶里程数：为{}公里\\n\".format(self.mileage))\n",
    "    \n",
    "    def set_mileage(self, distance):         \n",
    "        \"\"\"获取汽车的总里程数\"\"\"              \n",
    "        self.mileage = distance            "
   ]
  },
  {
   "cell_type": "code",
   "execution_count": 6,
   "id": "477f0b2f",
   "metadata": {},
   "outputs": [
    {
     "name": "stdout",
     "output_type": "stream",
     "text": [
      "汽车行驶里程数：为0公里\n",
      "\n",
      "汽车行驶里程数：为8000公里\n",
      "\n"
     ]
    }
   ],
   "source": [
    "my_old_car = Car(\"BYD\", \"F3\", 2016)\n",
    "print(my_old_car.get_mileage())\n",
    "my_old_car.set_mileage(8000)\n",
    "print(my_old_car.get_mileage())"
   ]
  },
  {
   "cell_type": "markdown",
   "id": "948599ef",
   "metadata": {},
   "source": [
    "### 进一步拓展  \n",
    "禁止输出负里程数"
   ]
  },
  {
   "cell_type": "code",
   "execution_count": 8,
   "id": "958db3b1",
   "metadata": {},
   "outputs": [],
   "source": [
    "class Car():\n",
    "    \"\"\"模拟汽车\"\"\"\n",
    "    def __init__(self, brand, model, year):\n",
    "        \"\"\"初始化类属性\"\"\"\n",
    "        self.brand = brand    #汽车的品牌属性\n",
    "        self.model = model    #汽车的型号属性\n",
    "        self.year = year      #汽车的出场年份属性\n",
    "        self.mileage = 0      #汽车的里程数\n",
    "        \n",
    "    def get_main_information(self):\n",
    "        \"\"\"获取汽车的主要信息\"\"\"\n",
    "        print(\"品牌为{}\\n型号：{}\\n出场日期：{}\\n\".format(self.brand, self.model, self.year))\n",
    "    \n",
    "    def get_mileage(self):\n",
    "        \"\"\"获取汽车的里程数\"\"\"\n",
    "        return(\"汽车行驶里程数：为{}公里\\n\".format(self.mileage))\n",
    "        \n",
    "    def set_mileage(self, distance):\n",
    "        if distance >= 0:\n",
    "            self.mileage = distance\n",
    "        else:\n",
    "            print(\"里程数不可为负值\")\n",
    "        \n",
    "    def increment_mileage(self, distance):\n",
    "        if distance >= 0:\n",
    "            self.mileage += distance\n",
    "        else:\n",
    "            print(\"里程增量不可为负值\")"
   ]
  },
  {
   "cell_type": "code",
   "execution_count": 9,
   "id": "da04613a",
   "metadata": {},
   "outputs": [
    {
     "name": "stdout",
     "output_type": "stream",
     "text": [
      "汽车行驶里程数：为0公里\n",
      "\n",
      "里程数不可为负值\n",
      "汽车行驶里程数：为0公里\n",
      "\n"
     ]
    }
   ],
   "source": [
    "my_old_car = Car(\"BYD\", \"F3\", 2016)\n",
    "print(my_old_car.get_mileage())\n",
    "my_old_car.set_mileage(-8000)\n",
    "print(my_old_car.get_mileage())"
   ]
  },
  {
   "cell_type": "code",
   "execution_count": 10,
   "id": "2fe35175",
   "metadata": {},
   "outputs": [
    {
     "name": "stdout",
     "output_type": "stream",
     "text": [
      "汽车行驶里程数：为0公里\n",
      "\n",
      "汽车行驶里程数：为8000公里\n",
      "\n",
      "汽车行驶里程数：为8500公里\n",
      "\n"
     ]
    }
   ],
   "source": [
    "my_old_car = Car(\"BYD\", \"F3\", 2016)\n",
    "print(my_old_car.get_mileage())\n",
    "my_old_car.set_mileage(8000)\n",
    "print(my_old_car.get_mileage())\n",
    "my_old_car.increment_mileage(500)\n",
    "print(my_old_car.get_mileage())"
   ]
  },
  {
   "cell_type": "markdown",
   "id": "4639004e",
   "metadata": {},
   "source": [
    "## 小结"
   ]
  },
  {
   "cell_type": "code",
   "execution_count": 11,
   "id": "79dca7bd",
   "metadata": {},
   "outputs": [],
   "source": [
    "my_new_car = Car(\"BMW\", 530, 2021)\n",
    "my_old_car = Car(\"BYD\", \"F3\", 2016)\n",
    "my_cars = [my_new_car, my_old_car]"
   ]
  },
  {
   "cell_type": "markdown",
   "id": "c91a0feb",
   "metadata": {},
   "source": [
    "- 由此可以看出结合类，信息的包含量是巨大的，几乎可以创建无穷多的实例\n",
    "- 以人的视角观看事物的规律和变化，更容易理解"
   ]
  },
  {
   "cell_type": "code",
   "execution_count": 9,
   "id": "104acefe",
   "metadata": {},
   "outputs": [
    {
     "name": "stdout",
     "output_type": "stream",
     "text": [
      "/usr/bin/python3\n"
     ]
    }
   ],
   "source": [
    "import sys\n",
    "print(sys.executable) #主目录下"
   ]
  },
  {
   "cell_type": "code",
   "execution_count": 1,
   "id": "d1108cd9",
   "metadata": {},
   "outputs": [
    {
     "name": "stdout",
     "output_type": "stream",
     "text": [
      "/home/herryao/anaconda3/envs/py38/bin/python\n"
     ]
    }
   ],
   "source": [
    "import sys\n",
    "print(sys.executable) #切换至py38"
   ]
  },
  {
   "cell_type": "code",
   "execution_count": 1,
   "id": "5a324a86",
   "metadata": {},
   "outputs": [
    {
     "name": "stdout",
     "output_type": "stream",
     "text": [
      "/home/herryao/anaconda3/envs/py39/bin/python\n"
     ]
    }
   ],
   "source": [
    "import sys\n",
    "print(sys.executable) #切换至py39"
   ]
  }
 ],
 "metadata": {
  "kernelspec": {
   "display_name": "Python 3 (ipykernel)",
   "language": "python",
   "name": "python3"
  },
  "language_info": {
   "codemirror_mode": {
    "name": "ipython",
    "version": 3
   },
   "file_extension": ".py",
   "mimetype": "text/x-python",
   "name": "python",
   "nbconvert_exporter": "python",
   "pygments_lexer": "ipython3",
   "version": "3.9.12"
  },
  "toc": {
   "base_numbering": 1,
   "nav_menu": {},
   "number_sections": true,
   "sideBar": true,
   "skip_h1_title": false,
   "title_cell": "Table of Contents",
   "title_sidebar": "Contents",
   "toc_cell": false,
   "toc_position": {},
   "toc_section_display": true,
   "toc_window_display": false
  }
 },
 "nbformat": 4,
 "nbformat_minor": 5
}
