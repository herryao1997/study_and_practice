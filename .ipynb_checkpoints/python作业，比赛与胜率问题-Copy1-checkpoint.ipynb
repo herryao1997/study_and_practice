{
 "cells": [
  {
   "cell_type": "markdown",
   "id": "7c57b22a",
   "metadata": {},
   "source": [
    "# 题目一（函数的定义及调用）"
   ]
  },
  {
   "cell_type": "code",
   "execution_count": null,
   "id": "79a13855",
   "metadata": {},
   "outputs": [],
   "source": [
    "def func(x, *y, **z):\n",
    "    print(x)\n",
    "    print(y)\n",
    "    print(z)"
   ]
  },
  {
   "cell_type": "code",
   "execution_count": null,
   "id": "046238f8",
   "metadata": {},
   "outputs": [],
   "source": [
    "ls = ['a', 'b', 'c']"
   ]
  },
  {
   "cell_type": "code",
   "execution_count": null,
   "id": "f4b15c0d",
   "metadata": {},
   "outputs": [],
   "source": [
    "print(ls) "
   ]
  },
  {
   "cell_type": "code",
   "execution_count": null,
   "id": "50372595",
   "metadata": {},
   "outputs": [],
   "source": [
    "d = {\"name\": \"Sarah\", \"age\":18}"
   ]
  },
  {
   "cell_type": "code",
   "execution_count": null,
   "id": "e83d05d5",
   "metadata": {},
   "outputs": [],
   "source": [
    "func(*ls, 'b', **d)"
   ]
  },
  {
   "cell_type": "markdown",
   "id": "e1c7b85b",
   "metadata": {},
   "source": [
    "# 题目二 （函数式编程）"
   ]
  },
  {
   "cell_type": "code",
   "execution_count": null,
   "id": "996b6ddf",
   "metadata": {},
   "outputs": [],
   "source": [
    "import random\n",
    "\n",
    "\n",
    "def get_input():\n",
    "    #输入原始数据\n",
    "    prob_A = eval(input(\"请输入运动员A每球获胜的概率（0-1）>\")) \n",
    "    prob_B = 1 - prob_A\n",
    "    number_of_games = eval(input(\"请输入比赛的总场数（正数）>\"))\n",
    "    print(\"A 选手获胜的概率为：\", prob_A)\n",
    "    print(\"B 选手获胜的概率为：\", prob_B)\n",
    "    print(\"模拟总次数为：\", number_of_games)\n",
    "    return prob_A, prob_B, number_of_games\n",
    "\n",
    "\n",
    "def game_over(score_A, score_B):\n",
    "    #如果有任意一方得分达到21比赛结束\n",
    "    return score_A ==21 or score_B == 21\n",
    "\n",
    "\n",
    "def sim_one_game(prob_A, prob_B):\n",
    "    score_A , score_B = 0, 0\n",
    "    while not game_over(score_A, score_B):\n",
    "        if random.random() < prob_A:\n",
    "            score_A += 1\n",
    "        else:\n",
    "            score_B += 1\n",
    "    return score_A, score_B\n",
    "\n",
    "def sim_n_game(prob_A, prob_B, number_of_games):\n",
    "    win_A, win_B = 0, 0                    #初始化模拟一次比赛的比分\n",
    "    for i in range(number_of_games):       #循环number_of_games次\n",
    "        score_A, score_B = sim_one_game(prob_A, prob_B)       #获取当前模拟的比赛结果\n",
    "        if score_A > score_B:              \n",
    "            win_A += 1\n",
    "        else:\n",
    "            win_B += 1\n",
    "    return win_A, win_B\n",
    "\n",
    "\n",
    "def print_summary(win_A, win_B, number_of_games):\n",
    "    print(\"总共模拟了{}次比赛\".format(number_of_games))\n",
    "    print(\"选手A获胜{0}场，或胜率为{1:.1%}\".format(win_A, win_A/number_of_games))\n",
    "    print(\"选手B获胜{0}场，或胜率为{1:.1%}\".format(win_B, win_B/number_of_games))\n",
    "\n",
    "\n",
    "def main():\n",
    "    #主要逻辑\n",
    "    prob_A, prob_B, number_of_games = get_input()       #获取数据\n",
    "    win_A, win_B = sim_n_game(prob_A, prob_B, number_of_games)            #获取模拟结果\n",
    "    print_summary(win_A, win_B, number_of_games)        #汇总模拟结果\n",
    "\n",
    "    \n",
    "if __name__ == \"__main__\":\n",
    "    main()    \n",
    "        \n",
    "    "
   ]
  },
  {
   "cell_type": "markdown",
   "id": "10d07698",
   "metadata": {},
   "source": [
    "* 对get_inputs函数增加容错，当输入的单球获胜概率不在(0,1)区间内时，提示输入错误，重新输入。"
   ]
  },
  {
   "cell_type": "markdown",
   "id": "49186a2d",
   "metadata": {},
   "source": [
    "* 将每局比赛的获胜规则更改为：一方得分大于等于21分，且与对手分差至少为2分，该种情形第一次出现时，得分高者获得该局比赛的胜利。"
   ]
  },
  {
   "cell_type": "markdown",
   "id": "c39cd5da",
   "metadata": {},
   "source": [
    "* 将每场比赛获胜规则更改为：三局两胜，率先获得两局胜利者，获得该场比赛胜利。"
   ]
  },
  {
   "cell_type": "markdown",
   "id": "cd836540",
   "metadata": {},
   "source": [
    "* 其他条件于本章例题相同，试模拟1万场比赛的结果。"
   ]
  },
  {
   "cell_type": "code",
   "execution_count": 3,
   "id": "44431580",
   "metadata": {},
   "outputs": [
    {
     "name": "stdout",
     "output_type": "stream",
     "text": [
      "please input the probability for A（0-1）>0.48\n",
      "please input gamenums （positive value）>100000\n",
      "the probability for A is 0.48\n",
      "the probability for B is 0.52\n",
      "the total num for simulation is 100000\n",
      "总共模拟的次数为100000\n",
      "A总共胜利了31264次，其胜率为31.3%\n",
      "B总共胜利了68736次，其胜率为68.7%\n"
     ]
    }
   ],
   "source": [
    "import random\n",
    "\n",
    "\n",
    "def get_input():\n",
    "#    prob_A = eval(input(\"please input the probability for A（0-1）>\"))\n",
    "#    while prob_A > 1 or prob_A < 0:\n",
    "#        prob_A = eval(input(\"please renter a num\"))\n",
    "    while True:\n",
    "        prob_A = eval(input(\"please input the probability for A（0-1）>\"))\n",
    "        if prob_A >0 and prob_A <1:\n",
    "            break\n",
    "    prob_B = 1 - prob_A\n",
    "    num_of_games = eval( input(\"please input gamenums （positive value）>\"))\n",
    "    print(\"the probability for A is\", prob_A)\n",
    "    print(\"the probability for B is\", prob_B)\n",
    "    print(\"the total num for simulation is\", num_of_games)\n",
    "    return prob_A, prob_B, num_of_games\n",
    "\n",
    "\n",
    "def game_over(score_A, score_B):\n",
    "    return (score_A >= 21 or score_B >= 21) and (abs(score_A - score_B) >= 2)\n",
    "#经过断点调试可知，如下的代码由于当第一条要求满足时，第二条要求不满足，继续累加会造成永远无法满足，导致最终的死循环～\n",
    "#    return (score_A == 21 or score_B == 21) and (abs(score_A - score_B) >= 2)\n",
    "\n",
    "def sim_one_games(prob_A, prob_B):\n",
    "    cnt_A, cnt_B = 0, 0      #初始化胜利次数\n",
    "    for i in range(5):     #循环最多五次   \n",
    "        score_A, score_B = 0, 0\n",
    "        while not game_over(score_A, score_B):\n",
    "            if random.random() < prob_A:\n",
    "                score_A += 1\n",
    "            else:\n",
    "                score_B += 1 #一次循环结束得到比分\n",
    "        if score_A > score_B: #判断一次比分的大小决定胜负\n",
    "            cnt_A +=1\n",
    "        else:\n",
    "            cnt_B +=1        #一次比赛结束，结束记录\n",
    "        if cnt_A == 3 or cnt_B == 3: #如果有一个人的胜利次数先达到3则比赛结束退出循环\n",
    "            break\n",
    "    return cnt_A, cnt_B\n",
    "            \n",
    "    \n",
    "def sim_n_games(prob_A, prob_B, num_of_games):\n",
    "    win_A, win_B = 0, 0\n",
    "    for i in range(num_of_games):\n",
    "        cnt_A, cnt_B = sim_one_games(prob_A, prob_B)\n",
    "        if cnt_A > cnt_B:\n",
    "            win_A += 1\n",
    "        else:\n",
    "            win_B += 1\n",
    "    return win_A, win_B\n",
    "\n",
    "\n",
    "def print_summary(win_A, win_B, num_of_games):\n",
    "    print(\"总共模拟的次数为{0}\".format(num_of_games))\n",
    "    print(\"A总共胜利了{0}次，其胜率为{1:.1%}\".format(win_A, win_A/num_of_games))\n",
    "    print(\"B总共胜利了{0}次，其胜率为{1:.1%}\".format(win_B, win_B/num_of_games))\n",
    "\n",
    "def main():\n",
    "    prob_A, prob_B, num_of_games = get_input()\n",
    "    win_A, win_B = sim_n_games(prob_A, prob_B, num_of_games)\n",
    "    print_summary(win_A, win_B, num_of_games)\n",
    "\n",
    "    \n",
    "if __name__ == \"__main__\":\n",
    "    main()\n",
    "    \n",
    "    "
   ]
  },
  {
   "cell_type": "markdown",
   "id": "ecbc959a",
   "metadata": {},
   "source": [
    "# 题目三（匿名排序）"
   ]
  },
  {
   "cell_type": "code",
   "execution_count": 4,
   "id": "56a0d12f",
   "metadata": {},
   "outputs": [
    {
     "name": "stdout",
     "output_type": "stream",
     "text": [
      "{'w': 1}\n",
      "{'w': 1, 'h': 1}\n",
      "{'w': 1, 'h': 1, 'a': 1}\n",
      "{'w': 1, 'h': 1, 'a': 1, 't': 1}\n",
      "{'w': 1, 'h': 1, 'a': 1, 't': 1, ' ': 1}\n",
      "{'w': 1, 'h': 1, 'a': 2, 't': 1, ' ': 1}\n",
      "{'w': 1, 'h': 1, 'a': 2, 't': 1, ' ': 1, 'r': 1}\n",
      "{'w': 1, 'h': 1, 'a': 2, 't': 1, ' ': 1, 'r': 1, 'e': 1}\n",
      "{'w': 1, 'h': 1, 'a': 2, 't': 1, ' ': 2, 'r': 1, 'e': 1}\n",
      "{'w': 1, 'h': 1, 'a': 2, 't': 1, ' ': 2, 'r': 1, 'e': 1, 'y': 1}\n",
      "{'w': 1, 'h': 1, 'a': 2, 't': 1, ' ': 2, 'r': 1, 'e': 1, 'y': 1, 'o': 1}\n",
      "{'w': 1, 'h': 1, 'a': 2, 't': 1, ' ': 2, 'r': 1, 'e': 1, 'y': 1, 'o': 1, 'u': 1}\n",
      "{'w': 1, 'h': 1, 'a': 2, 't': 1, ' ': 3, 'r': 1, 'e': 1, 'y': 1, 'o': 1, 'u': 1}\n",
      "{'w': 1, 'h': 1, 'a': 2, 't': 1, ' ': 3, 'r': 1, 'e': 1, 'y': 1, 'o': 1, 'u': 1, 'd': 1}\n",
      "{'w': 1, 'h': 1, 'a': 2, 't': 1, ' ': 3, 'r': 1, 'e': 1, 'y': 1, 'o': 2, 'u': 1, 'd': 1}\n",
      "{'w': 1, 'h': 1, 'a': 2, 't': 1, ' ': 3, 'r': 1, 'e': 1, 'y': 1, 'o': 2, 'u': 1, 'd': 1, 'i': 1}\n",
      "{'w': 1, 'h': 1, 'a': 2, 't': 1, ' ': 3, 'r': 1, 'e': 1, 'y': 1, 'o': 2, 'u': 1, 'd': 1, 'i': 1, 'n': 1}\n",
      "{'w': 1, 'h': 1, 'a': 2, 't': 1, ' ': 3, 'r': 1, 'e': 1, 'y': 1, 'o': 2, 'u': 1, 'd': 1, 'i': 1, 'n': 1, 'g': 1}\n"
     ]
    }
   ],
   "source": [
    "s = \"what are you doing\"\n",
    "d = {}  #这是一个字典\n",
    "for i in s:\n",
    "    d[i] = d.get(i, 0)+1\n",
    "    print(d)"
   ]
  },
  {
   "cell_type": "code",
   "execution_count": 6,
   "id": "5eef6245",
   "metadata": {},
   "outputs": [
    {
     "name": "stdout",
     "output_type": "stream",
     "text": [
      "[(' ', 3), ('a', 2), ('o', 2), ('w', 1), ('h', 1), ('t', 1), ('r', 1), ('e', 1), ('y', 1), ('u', 1), ('d', 1), ('i', 1), ('n', 1), ('g', 1)]\n"
     ]
    }
   ],
   "source": [
    "print(sorted(d.items(), key = lambda item : item[1], reverse = True))"
   ]
  }
 ],
 "metadata": {
  "kernelspec": {
   "display_name": "Python 3 (ipykernel)",
   "language": "python",
   "name": "python3"
  },
  "language_info": {
   "codemirror_mode": {
    "name": "ipython",
    "version": 3
   },
   "file_extension": ".py",
   "mimetype": "text/x-python",
   "name": "python",
   "nbconvert_exporter": "python",
   "pygments_lexer": "ipython3",
   "version": "3.10.4"
  }
 },
 "nbformat": 4,
 "nbformat_minor": 5
}
